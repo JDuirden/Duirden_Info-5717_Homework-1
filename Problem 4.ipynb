{
 "cells": [
  {
   "cell_type": "code",
   "execution_count": 31,
   "metadata": {},
   "outputs": [
    {
     "data": {
      "text/plain": [
       "['Go', 'Mean', 'Green!', 'Beat', 'UTSA', 'this', 'weekend!']"
      ]
     },
     "execution_count": 31,
     "metadata": {},
     "output_type": "execute_result"
    }
   ],
   "source": [
    "# Problem 4\n",
    "# Sentences are Go mean green! & Beat USTA this weekend!\n",
    ">>> phrase = \"Go Mean Green! Beat UTSA this weekend!\"\n",
    ">>> words = phrase.split()\n",
    ">>> words\n"
   ]
  },
  {
   "cell_type": "code",
   "execution_count": 47,
   "metadata": {},
   "outputs": [
    {
     "data": {
      "text/plain": [
       "[]"
      ]
     },
     "execution_count": 47,
     "metadata": {},
     "output_type": "execute_result"
    }
   ],
   "source": [
    "# Sentence Comparison, solution retrieved from stackoverflow.\n",
    ">>> list1 = ['Go', 'Mean', 'Green!']\n",
    ">>> list2 = ['Beat', 'UTSA', 'this', 'weekend!']\n",
    ">>> s = set(list2)\n",
    ">>> list3 = [x for x in list1 if x in s]\n",
    ">>> list3\n"
   ]
  },
  {
   "cell_type": "code",
   "execution_count": 50,
   "metadata": {},
   "outputs": [
    {
     "data": {
      "text/plain": [
       "'Go Mean Green Beat UTSA this weekend'"
      ]
     },
     "execution_count": 50,
     "metadata": {},
     "output_type": "execute_result"
    }
   ],
   "source": [
    "# Remove punctuation, solution retrieved from stackoverflow. \n",
    "import string\n",
    "\n",
    "remove_punct_map = dict.fromkeys(map(ord, string.punctuation))\n",
    "s.translate(remove_punct_map)"
   ]
  },
  {
   "cell_type": "code",
   "execution_count": 11,
   "metadata": {},
   "outputs": [
    {
     "name": "stdout",
     "output_type": "stream",
     "text": [
      "{'a': 3, 'e': 7, 'i': 1, 'o': 1, 'u': 1}\n"
     ]
    }
   ],
   "source": [
    "vowels = 'aeiou'\n",
    "\n",
    "\n",
    "ip_str = 'Go Mean Green! Beat UTSA this weekend!'\n",
    "\n",
    "ip_str = ip_str.casefold()\n",
    "\n",
    "count = {}.fromkeys(vowels,0)\n",
    "\n",
    "\n",
    "for char in ip_str:\n",
    "   if char in count:\n",
    "       count[char] += 1\n",
    "\n",
    "print(count) \n",
    "      "
   ]
  }
 ],
 "metadata": {
  "kernelspec": {
   "display_name": "Python 3",
   "language": "python",
   "name": "python3"
  },
  "language_info": {
   "codemirror_mode": {
    "name": "ipython",
    "version": 3
   },
   "file_extension": ".py",
   "mimetype": "text/x-python",
   "name": "python",
   "nbconvert_exporter": "python",
   "pygments_lexer": "ipython3",
   "version": "3.7.3"
  }
 },
 "nbformat": 4,
 "nbformat_minor": 2
}
