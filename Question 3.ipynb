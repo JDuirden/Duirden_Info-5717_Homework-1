{
 "cells": [
  {
   "cell_type": "code",
   "execution_count": 7,
   "metadata": {},
   "outputs": [
    {
     "name": "stdout",
     "output_type": "stream",
     "text": [
      "[32, 34, 75, 88, 48, 23, 49, 1, 97, 58, 27, 72]\n"
     ]
    }
   ],
   "source": [
    "import random \n",
    "def Rand(start, end, num): \n",
    "    res = [] \n",
    "  \n",
    "    for j in range(num): \n",
    "        res.append(random.randint(start, end)) \n",
    "  \n",
    "    return res \n",
    "  \n",
    "# Driver Code \n",
    "num = 12\n",
    "start = 1\n",
    "end = 100\n",
    "print(Rand(start, end, num)) "
   ]
  },
  {
   "cell_type": "code",
   "execution_count": 9,
   "metadata": {},
   "outputs": [
    {
     "name": "stdout",
     "output_type": "stream",
     "text": [
      "Sorted list: [1, 23, 27, 32, 34, 48, 49, 58, 72, 75, 88, 97]\n"
     ]
    }
   ],
   "source": [
    "# Ascending\n",
    "Homework = [32, 34, 75, 88, 48, 23, 49, 1, 97, 58, 27, 72]\n",
    "\n",
    "# sort the numbers\n",
    "Homework.sort()\n",
    "\n",
    "print('Sorted list:', Homework)"
   ]
  },
  {
   "cell_type": "code",
   "execution_count": 25,
   "metadata": {},
   "outputs": [
    {
     "name": "stdout",
     "output_type": "stream",
     "text": [
      "[97, 88, 75, 72, 58, 49, 48, 34, 32, 27, 23, 1]\n"
     ]
    }
   ],
   "source": [
    "# Descending\n",
    "Homework = [32, 34, 75, 88, 48, 23, 49, 1, 97, 58, 27, 72]\n",
    "Homework.sort (reverse = True)\n",
    "# sort the numbers\n",
    "print(Homework)"
   ]
  },
  {
   "cell_type": "code",
   "execution_count": 49,
   "metadata": {},
   "outputs": [
    {
     "name": "stdout",
     "output_type": "stream",
     "text": [
      "604\n",
      "50.333333333333336\n"
     ]
    }
   ],
   "source": [
    "# Average\n",
    "Homework = [32, 34, 75, 88, 48, 23, 49, 1, 97, 58, 27, 72]\n",
    "Sum = sum(Homework) \n",
    "print(Sum)\n",
    "\n",
    "print(604/12)\n",
    "  \n",
    "# Printing average of the list \n"
   ]
  }
 ],
 "metadata": {
  "kernelspec": {
   "display_name": "Python 3",
   "language": "python",
   "name": "python3"
  },
  "language_info": {
   "codemirror_mode": {
    "name": "ipython",
    "version": 3
   },
   "file_extension": ".py",
   "mimetype": "text/x-python",
   "name": "python",
   "nbconvert_exporter": "python",
   "pygments_lexer": "ipython3",
   "version": "3.7.3"
  }
 },
 "nbformat": 4,
 "nbformat_minor": 2
}
